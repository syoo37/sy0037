{
 "cells": [
  {
   "cell_type": "code",
   "execution_count": 1,
   "metadata": {},
   "outputs": [
    {
     "data": {
      "text/html": [
       "<style>.container { width:95% !important; }</style>"
      ],
      "text/plain": [
       "<IPython.core.display.HTML object>"
      ]
     },
     "metadata": {},
     "output_type": "display_data"
    },
    {
     "data": {
      "text/html": [
       "<style>.input_area pre {font-family: Consolas; font-size: 20pt; line-height: 140%;}</style>"
      ],
      "text/plain": [
       "<IPython.core.display.HTML object>"
      ]
     },
     "metadata": {},
     "output_type": "display_data"
    },
    {
     "data": {
      "text/html": [
       "<style>.output_area pre {font-family: Consolas; font-size: 20pt; line-height: 140%;}</style>"
      ],
      "text/plain": [
       "<IPython.core.display.HTML object>"
      ]
     },
     "metadata": {},
     "output_type": "display_data"
    }
   ],
   "source": [
    "from IPython.core.display import display, HTML\n",
    "display(HTML(\"<style>.container { width:95% !important; }</style>\"))\n",
    "display(HTML(\"<style>.input_area pre {font-family: Consolas; font-size: 20pt; line-height: 140%;}</style>\"))\n",
    "display(HTML(\"<style>.output_area pre {font-family: Consolas; font-size: 20pt; line-height: 140%;}</style>\"))"
   ]
  },
  {
   "cell_type": "markdown",
   "metadata": {},
   "source": [
    "## 수원대학교가 들어간 뉴스기사 \n",
    "## 첫페이지 웹스크래핑"
   ]
  },
  {
   "cell_type": "code",
   "execution_count": 2,
   "metadata": {
    "scrolled": true
   },
   "outputs": [
    {
     "name": "stdout",
     "output_type": "stream",
     "text": [
      "naver 검색: 수원대학교\n",
      "https://search.naver.com/search.naver?where=news&sm=tab_jum&query=%EC%88%98%EC%9B%90%EB%8C%80%ED%95%99%EA%B5%90\n",
      "1 - [수원대, '제9회 수북대전 토론대회' 성료]: '제9회 수북대전 토론대회' 결과 수원대 교양대학장 김중신 교수는 \"이번 수북대전 토론대회를 통해 학생들이 사회 이슈에 대해 다양한 각도에서 생각하고 토론하는 태도뿐만 아니라, 새로운 일에 도전하는 열정과... (교수신문)\n",
      "2 - [수원여대, 매향여고서 '입시설명회·직업체험 프로그램' 진행]: 수원여자대학교(총장 장기원)가 지난 28일 매향여자정보고등학교(교장 방병일)에서 고교 입시설명회 및 직업체험 프로그램을 개최했다고 밝혔다. 이번 고교 입시설명회는 고교 연계교육과정을 운영하는 학과 대상으로... (컨슈머타임스)\n",
      "3 - [수원여대, 매향여고 입시설명회 개최]: 수원여자대학교(총장 장기원)가 지난 28일 매향여자정보고(교장 방병일)에서 고교 입시설명회 및 직업체험 프로그램을 개최했다. 이번 고교 입시설명회는 고교 연계교육과정을 운영하는 학과 대상으로 개최했으며... (내일신문)\n",
      "4 - [[빅데이터투데이] 전문대학 2021년 5월 브랜드평판 분석... 1위 서울예술대학교, 2위 동아방송예술대학교, 3위 부천대학교]: 동원과학기술대학교, 수원여자대학교, 경북보건대학교, 한국농수산대학, 경북과학대학교, 두원공과대학교, 김포대학교, 수성대학교, 인천재능대학교, 신안산대학교, 청강문화산업대학교, 배화여자대학교... (파이낸스투데이)\n",
      "5 - [스카이입시교육 2022 연세대·한양대·가천대 등 언어·수리논술 대치동 학원 개강]: 신설된 대학들인 가천대 919명, 수원대 480명, 고려대(세종) 417명 3개 대학이 총 1,816명을 선발하는 점과 6년제... 않는 대학은 가톨릭대(의예/간호 제외), 경기대(서울/수원), 광운대, 단국대(죽전), 서울과학기술대 등 이다. (한국강사신문)\n",
      "6 - [수원시, 대학생 행정 인턴 모집]: 다만 대학원생, 학점은행제 대학생, 해외 소재 대학생, 수원시 대학생 인턴 사업·청년층 직장체험 참여 경험이 있는 학생은 제외된다.프로그램을 통해 무작위로 추첨해 대학생 인턴을 뽑는다. 뽑힌 인턴은... (경인일보)\n",
      "7 - [수원여대, 매향여고 입시설명회·직업체험 프로그램 운영]: 수원여자대학교가 28일 매향여자정보고등학교에서 고교 입시설명회와 직업체험 프로그램을 진행했다. 이번 고교 입시설명회는 고교 연계교육과정을 운영하는 학과 대상으로 실시했다. 이는 간호학과, 호텔외식조리과... (머니투데이)\n",
      "8 - [수원대 '화성시 어린이급식관리지원센터', 비대면 어린이 식생활 인형극 실시]: 화성시 어린이급식관리지원센터는 코로나19로 외부활동이 어려운 화성시 어린이급식소의 교육 참여 기회를 확대하기 위해 지난 4월 19일부터 10월 31일까지 비대면 식생활 인형극 「코리요와 떠나는 튼튼 모험!」을... (교수신문)\n",
      "9 - [[영상]수원대 창업지원단, 우수한 창업 인프라 구축 '눈길']: 임선홍 단장은 \"수원대 창업지원단은 오는 2023년까지 수도권 최고의 글로컬 창업선도대학으로 거듭날 것\"이라며 \"이를 위해 실리콘밸리형 창업 생태계와 인프라를 구축하고 인공지능, 빅데이터 등 차세대 기술 기반의... (머니투데이)\n",
      "10 - [2022학년도 수시모집 논술전형 변경 사항 및 선발인원]: 2022학년도 논술전형에서 수능 최저학력기준을 적용하지 않는 대학은 가톨릭대(의예/간호 제외), 경기대(서울/수원), 광운대, 단국대(죽전), 서울과학기술대, 서울시립대, 수원대, 아주대(의학과 제외), 연세대(서울)... (내일신문)\n",
      "\n"
     ]
    }
   ],
   "source": [
    "import requests as rq\n",
    "from bs4 import BeautifulSoup\n",
    "from urllib.parse import urljoin\n",
    "from urllib.parse import quote\n",
    "import openpyxl\n",
    "\n",
    "def naver_crawling(keyword):\n",
    "    print(f'naver 검색: {keyword}')\n",
    "    encoded_keyword=quote(keyword)\n",
    "    url=f\"https://search.naver.com/search.naver?where=news&sm=tab_jum&query={encoded_keyword}\"\n",
    "    print(url)\n",
    "    res=rq.get(url)\n",
    "    soup= BeautifulSoup(res.text, 'lxml')\n",
    "    \n",
    "    for i, t in enumerate(soup.select('.news_area'), 1):\n",
    "        title = t.select_one('.news_tit').get('title').strip()\n",
    "        text = t.select_one('.api_txt_lines').text.strip()\n",
    "        info = t.select_one('.info').text.strip()\n",
    "        print(f'{i} - [{title}]: {text} ({info})')\n",
    "        \n",
    "    pass\n",
    "\n",
    "   \n",
    "naver_crawling('수원대학교')\n",
    "print()\n",
    "\n"
   ]
  },
  {
   "cell_type": "markdown",
   "metadata": {},
   "source": [
    "# csv파일로 저장"
   ]
  },
  {
   "cell_type": "code",
   "execution_count": null,
   "metadata": {
    "scrolled": true
   },
   "outputs": [],
   "source": [
    "import requests as rq\n",
    "from bs4 import BeautifulSoup\n",
    "from urllib.parse import urljoin\n",
    "from urllib.parse import quote\n",
    "import csv\n",
    "\n",
    "def naver_crawling_csv(keyword, csv_file):\n",
    "    print(f'naver 검색: {keyword}')\n",
    "    encoded_keyword=quote(keyword)\n",
    "    url=f\"https://search.naver.com/search.naver?where=news&sm=tab_jum&query={encoded_keyword}\"\n",
    "    print(url)\n",
    "    res=rq.get(url)\n",
    "    soup= BeautifulSoup(res.text, 'lxml')\n",
    "    \n",
    "    f =open(csv_file, 'w', newline='', encoding='utf-8')\n",
    "    wr=csv.writer(f)\n",
    "    header=['번호', '제목', '내용', '신문사']\n",
    "    wr.writerow(header)\n",
    "    \n",
    "    \n",
    "    for i, t in enumerate(soup.select('.news_area'), 1):\n",
    "        title = t.select_one('.news_tit').get('title').strip()\n",
    "        text = t.select_one('.api_txt_lines').text.strip()\n",
    "        info = t.select_one('.info').text.strip()\n",
    "        print(f'{i} - [{title}]: {text} ({info})')\n",
    "        row = [i, title, text, info]\n",
    "        wr.writerow(row)\n",
    "    f.close()\n",
    "    pass\n",
    "\n",
    "naver_crawling_csv(\"수원대학교\", 'naver_suwon.csv')"
   ]
  },
  {
   "cell_type": "markdown",
   "metadata": {},
   "source": [
    "# 엑셀파일로 저장"
   ]
  },
  {
   "cell_type": "code",
   "execution_count": null,
   "metadata": {
    "scrolled": true
   },
   "outputs": [],
   "source": [
    "import requests as rq\n",
    "from bs4 import BeautifulSoup\n",
    "from urllib.parse import urljoin\n",
    "from urllib.parse import quote\n",
    "import openpyxl\n",
    "\n",
    "def naver_crawling_xlsx(keyword, xlsx_file):\n",
    "    print(f'naver 검색: {keyword}')\n",
    "    encoded_keyword=quote(keyword)\n",
    "    url=f\"https://search.naver.com/search.naver?where=news&sm=tab_jum&query={encoded_keyword}\"\n",
    "    print(url)\n",
    "    res=rq.get(url)\n",
    "    soup= BeautifulSoup(res.text, 'lxml')\n",
    "    \n",
    "    wb = openpyxl.Workbook()\n",
    "    sheet = wb.active\n",
    "    \n",
    "    header=['번호', '제목', '내용', '신문사']\n",
    "    sheet.append(header)\n",
    "    \n",
    "    \n",
    "    for i, t in enumerate(soup.select('.news_area'), 1):\n",
    "        title = t.select_one('.news_tit').get('title').strip()\n",
    "        text = t.select_one('.api_txt_lines').text.strip()\n",
    "        info = t.select_one('.info').text.strip()\n",
    "        print(f'{i} - [{title}]: {text} ({info})')\n",
    "        row = [i, title, text, info]\n",
    "        sheet.append(row)\n",
    "        \n",
    "    wb.save(xlsx_file)\n",
    "    pass\n",
    "\n",
    "naver_crawling_xlsx(\"수원대학교\", 'naver_suwon.xlsx')"
   ]
  }
 ],
 "metadata": {
  "kernelspec": {
   "display_name": "Python 3",
   "language": "python",
   "name": "python3"
  },
  "language_info": {
   "codemirror_mode": {
    "name": "ipython",
    "version": 3
   },
   "file_extension": ".py",
   "mimetype": "text/x-python",
   "name": "python",
   "nbconvert_exporter": "python",
   "pygments_lexer": "ipython3",
   "version": "3.8.8"
  }
 },
 "nbformat": 4,
 "nbformat_minor": 4
}
